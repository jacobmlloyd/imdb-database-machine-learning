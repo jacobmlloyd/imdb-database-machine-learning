{
 "cells": [
  {
   "cell_type": "markdown",
   "id": "8a68e430",
   "metadata": {},
   "source": [
    "# Introduction\n",
    "<p> In this file we will be doing basics exploratory data analysis on the data compiled from both ETLs </p>"
   ]
  },
  {
   "cell_type": "code",
   "execution_count": 2,
   "id": "78413149",
   "metadata": {},
   "outputs": [],
   "source": [
    "# Generic Imports\n",
    "import pandas as pd\n",
    "\n",
    "# Data Imports\n",
    "import matplotlib.pyplot as plt\n",
    "import seaborn as sns"
   ]
  },
  {
   "cell_type": "markdown",
   "id": "6bfa880b",
   "metadata": {},
   "source": [
    "We want to read both CSV files created in TMDB-ETL, then combine them"
   ]
  },
  {
   "cell_type": "code",
   "execution_count": 9,
   "id": "0c805232",
   "metadata": {},
   "outputs": [],
   "source": [
    "df00 = pd.read_csv('Data/final_tmdb_data_2000.csv.gz', compression = 'gzip', low_memory = False).drop(index = 0)\n",
    "df01 = pd.read_csv('Data/final_tmdb_data_2001.csv.gz', compression = 'gzip', low_memory = False).drop(index = 0)\n",
    "\n",
    "# conct them\n",
    "\n",
    "df = pd.concat([df00, df01])"
   ]
  },
  {
   "cell_type": "markdown",
   "id": "31ba2da0",
   "metadata": {},
   "source": [
    "Let's do some EDA"
   ]
  },
  {
   "cell_type": "code",
   "execution_count": 23,
   "id": "81a05d50",
   "metadata": {},
   "outputs": [
    {
     "name": "stdout",
     "output_type": "stream",
     "text": [
      "There are 616 movies with financial info.\n"
     ]
    }
   ],
   "source": [
    "finance_df = df[(df['revenue'] > 0) | (df['budget'] > 0)]\n",
    "print(f\"There are {finance_df.shape[0]} movies with financial info.\")"
   ]
  },
  {
   "cell_type": "markdown",
   "id": "a214ba55",
   "metadata": {},
   "source": [
    "View average revenue by certification category"
   ]
  },
  {
   "cell_type": "code",
   "execution_count": 30,
   "id": "3944641a",
   "metadata": {},
   "outputs": [
    {
     "data": {
      "image/png": "[encoded data removed]",
      "text/plain": [
       "<Figure size 432x288 with 1 Axes>"
      ]
     },
     "metadata": {
      "needs_background": "light"
     },
     "output_type": "display_data"
    }
   ],
   "source": [
    "fig, ax = plt.subplots()\n",
    "ax.ticklabel_format(style='plain')\n",
    "finance_df.groupby('certification')['revenue'].mean().plot.bar();"
   ]
  },
  {
   "cell_type": "markdown",
   "id": "82e0dd48",
   "metadata": {},
   "source": [
    "View average budget by certification category"
   ]
  },
  {
   "cell_type": "code",
   "execution_count": 32,
   "id": "3a2dafa6",
   "metadata": {},
   "outputs": [
    {
     "data": {
      "image/png": "[encoded data removed]",
      "text/plain": [
       "<Figure size 432x288 with 1 Axes>"
      ]
     },
     "metadata": {
      "needs_background": "light"
     },
     "output_type": "display_data"
    }
   ],
   "source": [
    "finance_df.groupby('certification')['budget'].mean().plot.bar();"
   ]
  },
  {
   "cell_type": "markdown",
   "id": "b5e07505",
   "metadata": {},
   "source": [
    "Save our merged dataframe to a compressed CSV"
   ]
  },
  {
   "cell_type": "code",
   "execution_count": null,
   "id": "a0aa8c80",
   "metadata": {},
   "outputs": [],
   "source": [
    "df.to_csv(\"Data/tmdb_results_combined.csv.gz\", compression=\"gzip\", index=False)"
   ]
  }
 ],
 "metadata": {
  "kernelspec": {
   "display_name": "Python (dojo-env)",
   "language": "python",
   "name": "dojo-env"
  },
  "language_info": {
   "codemirror_mode": {
    "name": "ipython",
    "version": 3
   },
   "file_extension": ".py",
   "mimetype": "text/x-python",
   "name": "python",
   "nbconvert_exporter": "python",
   "pygments_lexer": "ipython3",
   "version": "3.8.13"
  },
  "toc": {
   "base_numbering": 1,
   "nav_menu": {},
   "number_sections": true,
   "sideBar": true,
   "skip_h1_title": false,
   "title_cell": "Table of Contents",
   "title_sidebar": "Contents",
   "toc_cell": false,
   "toc_position": {},
   "toc_section_display": true,
   "toc_window_display": false
  }
 },
 "nbformat": 4,
 "nbformat_minor": 5
}
