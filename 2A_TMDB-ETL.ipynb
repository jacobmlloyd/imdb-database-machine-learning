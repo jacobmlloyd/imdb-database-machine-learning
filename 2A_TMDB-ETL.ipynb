{
 "cells": [
  {
   "cell_type": "markdown",
   "id": "e9ad8f3d",
   "metadata": {},
   "source": [
    "# Introduction\n",
    "<p> The stakeholders noticed that within the IMDB dataset, there was no financial information. We will use TMDB to supplement the financial information. </p>"
   ]
  },
  {
   "cell_type": "markdown",
   "id": "103cb4a7",
   "metadata": {},
   "source": [
    "Imports"
   ]
  },
  {
   "cell_type": "code",
   "execution_count": 1,
   "id": "6d484b39",
   "metadata": {},
   "outputs": [],
   "source": [
    "import json\n",
    "import tmdbsimple as tmdb\n",
    "import pandas as pd\n",
    "import os\n",
    "from time import sleep"
   ]
  },
  {
   "cell_type": "markdown",
   "id": "d327344e",
   "metadata": {},
   "source": [
    "Load API Key and start TMDB interactions"
   ]
  },
  {
   "cell_type": "code",
   "execution_count": 2,
   "id": "b8752167",
   "metadata": {},
   "outputs": [],
   "source": [
    "# open creds file to get API key\n",
    "with open('creds.json', 'r') as file:\n",
    "     login = json.load(file)\n",
    "        \n",
    "tmdb.API_KEY =  login['tmdb-api-key-v3']"
   ]
  },
  {
   "cell_type": "markdown",
   "id": "c67eb9da",
   "metadata": {},
   "source": [
    "Here we will define two custom functions: one to add certification and one to appen/extend the JSON files"
   ]
  },
  {
   "cell_type": "code",
   "execution_count": 3,
   "id": "51607e1e",
   "metadata": {},
   "outputs": [],
   "source": [
    "# use a movie ID to get the financials and certification\n",
    "def movie_info(movie_id):\n",
    "    movie = tmdb.Movies(movie_id)\n",
    "    info = movie.info()\n",
    "    releases = movie.releases()\n",
    "    for c in movie.countries:\n",
    "        if c['iso_3166_1'] == 'US':\n",
    "            info['certification'] = c['certification']\n",
    "            break\n",
    "    return info"
   ]
  },
  {
   "cell_type": "code",
   "execution_count": 4,
   "id": "cd32dc6c",
   "metadata": {},
   "outputs": [],
   "source": [
    "# Taken directly from Coding Dojo LP\n",
    "def write_json(new_data, filename): \n",
    "    with open(filename,'r+') as file:\n",
    "        # First we load existing data into a dict.\n",
    "        file_data = json.load(file)\n",
    "        ## Choose extend or append\n",
    "        if (type(new_data) == list) & (type(file_data) == list):\n",
    "            file_data.extend(new_data)\n",
    "        else:\n",
    "             file_data.append(new_data)\n",
    "        # Sets file's current position at offset.\n",
    "        file.seek(0)\n",
    "        # convert back to json.\n",
    "        json.dump(file_data, file)"
   ]
  },
  {
   "cell_type": "markdown",
   "id": "c8fb6fd4",
   "metadata": {},
   "source": [
    "For POC, stakeholders want years 2000-2001"
   ]
  },
  {
   "cell_type": "code",
   "execution_count": 5,
   "id": "e3b4a8ec",
   "metadata": {},
   "outputs": [],
   "source": [
    "YEARS = [2000, 2001]\n",
    "FOLDER = \"Data\""
   ]
  },
  {
   "cell_type": "code",
   "execution_count": 6,
   "id": "9452a94f",
   "metadata": {},
   "outputs": [],
   "source": [
    "basics = pd.read_csv('Data/basics.csv.gz', compression = 'gzip')"
   ]
  },
  {
   "cell_type": "markdown",
   "id": "4d0d5bd9",
   "metadata": {},
   "source": [
    "We are going to make a nested loop to go through all of the years we've specified, efficiently grab the movies information, and save to a CSV.GZ file. "
   ]
  },
  {
   "cell_type": "code",
   "execution_count": 7,
   "id": "4703c29c",
   "metadata": {},
   "outputs": [
    {
     "name": "stdout",
     "output_type": "stream",
     "text": [
      "[!] Data/basics_in_progress_2000.json not found. Saving key imdb_id to file.\n",
      "[!] Data/basics_in_progress_2001.json not found. Saving key imdb_id to file.\n",
      "Year: 2001 Movie: tt95784622\r"
     ]
    }
   ],
   "source": [
    "# Nested loop for years\n",
    "for year in YEARS:\n",
    "    # Set default value to 0 results and no previous results\n",
    "    JSON_FILE = f'{FOLDER}/basics_in_progress_{year}.json'\n",
    "    if os.path.isfile(JSON_FILE) == False:\n",
    "        print(f\"[!] {JSON_FILE} not found. Saving key imdb_id to file.\")\n",
    "        with open(JSON_FILE, 'w') as file:\n",
    "            json.dump([{'imdb_id': 0}], file)\n",
    "    \n",
    "    df = basics.loc[basics['startYear'] == year].copy()\n",
    "    movie_ids = df['tconst'].copy()\n",
    "    \n",
    "    previous_df = pd.read_json(JSON_FILE)\n",
    "    \n",
    "    # filter out any ids that are already in the JSON_FILE\n",
    "    movie_ids_to_get = movie_ids[~movie_ids.isin(previous_df['imdb_id'])]\n",
    "    # loop through movie ids\n",
    "    for movie_id in movie_ids_to_get:\n",
    "        print(f\"Year: {year} Movie: {movie_id}\", end = '\\r')\n",
    "        try:\n",
    "            temp = movie_info(movie_id)\n",
    "            write_json(temp, JSON_FILE)\n",
    "            sleep(0.02)\n",
    "        except Exception:\n",
    "            continue\n",
    "    # Save file\n",
    "    final_year_df = pd.read_json(JSON_FILE)\n",
    "    final_year_df.to_csv(f\"{FOLDER}/final_tmdb_data_{year}.csv.gz\", compression=\"gzip\", index=False)\n",
    "    print(f\"Saved {FOLDER}/final_tmdb_data_{year}.csv.gz\")"
   ]
  }
 ],
 "metadata": {
  "kernelspec": {
   "display_name": "Python (dojo-env)",
   "language": "python",
   "name": "dojo-env"
  },
  "language_info": {
   "codemirror_mode": {
    "name": "ipython",
    "version": 3
   },
   "file_extension": ".py",
   "mimetype": "text/x-python",
   "name": "python",
   "nbconvert_exporter": "python",
   "pygments_lexer": "ipython3",
   "version": "3.8.13"
  },
  "toc": {
   "base_numbering": 1,
   "nav_menu": {},
   "number_sections": true,
   "sideBar": true,
   "skip_h1_title": false,
   "title_cell": "Table of Contents",
   "title_sidebar": "Contents",
   "toc_cell": false,
   "toc_position": {},
   "toc_section_display": true,
   "toc_window_display": false
  }
 },
 "nbformat": 4,
 "nbformat_minor": 5
}
