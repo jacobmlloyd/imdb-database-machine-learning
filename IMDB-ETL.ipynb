{
 "cells": [
  {
   "cell_type": "markdown",
   "id": "92b8d7ab",
   "metadata": {},
   "source": [
    "# Introduction\n",
    "<p> The main objective of this file is to manipulate the data according to the needs of our stakeholders. </p>"
   ]
  },
  {
   "cell_type": "markdown",
   "id": "960efe57",
   "metadata": {},
   "source": [
    "Required Imports"
   ]
  },
  {
   "cell_type": "code",
   "execution_count": 1,
   "id": "8b458ba0",
   "metadata": {},
   "outputs": [],
   "source": [
    "# Data Imports\n",
    "import pandas as pd\n",
    "import numpy as np\n",
    "import json\n",
    "\n",
    "# MySQL Imports\n",
    "import pymysql\n",
    "from sqlalchemy import create_engine\n",
    "from sqlalchemy_utils import create_database, database_exists"
   ]
  },
  {
   "cell_type": "code",
   "execution_count": 2,
   "id": "3a60c97b",
   "metadata": {},
   "outputs": [
    {
     "name": "stdout",
     "output_type": "stream",
     "text": [
      "Database imdb exists.\n"
     ]
    }
   ],
   "source": [
    "# Get SQL creds from json\n",
    "creds = json.load(open('creds.json'))\n",
    "\n",
    "pymysql.install_as_MySQLdb()\n",
    "\n",
    "# Create connection string using credentials following this format\n",
    "database = \"imdb\"\n",
    "ip_addr = 'localhost'\n",
    "connection_str = f\"mysql+pymysql://{creds['username']}:{creds['password']}@{ip_addr}/{database}\"\n",
    "    \n",
    "# Create database if it doesn't exist\n",
    "if database_exists(connection_str) == False: \n",
    "    create_database(connection_str)\n",
    "else: \n",
    "    print(f'Database {database} exists.')\n",
    "\n",
    "# Create Engine\n",
    "engine = create_engine(connection_str)"
   ]
  },
  {
   "cell_type": "markdown",
   "id": "8d0f9598",
   "metadata": {},
   "source": [
    "# Title Basics Data\n",
    "<p> Configure Title Basics Data to our needs </p>"
   ]
  },
  {
   "cell_type": "markdown",
   "id": "03c32947",
   "metadata": {},
   "source": [
    "Let's load the data and view it to get an idea"
   ]
  },
  {
   "cell_type": "code",
   "execution_count": 3,
   "id": "4741d99b",
   "metadata": {},
   "outputs": [
    {
     "data": {
      "text/html": [
       "<div>\n",
       "<style scoped>\n",
       "    .dataframe tbody tr th:only-of-type {\n",
       "        vertical-align: middle;\n",
       "    }\n",
       "\n",
       "    .dataframe tbody tr th {\n",
       "        vertical-align: top;\n",
       "    }\n",
       "\n",
       "    .dataframe thead th {\n",
       "        text-align: right;\n",
       "    }\n",
       "</style>\n",
       "<table border=\"1\" class=\"dataframe\">\n",
       "  <thead>\n",
       "    <tr style=\"text-align: right;\">\n",
       "      <th></th>\n",
       "      <th>tconst</th>\n",
       "      <th>titleType</th>\n",
       "      <th>primaryTitle</th>\n",
       "      <th>originalTitle</th>\n",
       "      <th>isAdult</th>\n",
       "      <th>startYear</th>\n",
       "      <th>endYear</th>\n",
       "      <th>runtimeMinutes</th>\n",
       "      <th>genres</th>\n",
       "    </tr>\n",
       "  </thead>\n",
       "  <tbody>\n",
       "    <tr>\n",
       "      <th>0</th>\n",
       "      <td>tt0000001</td>\n",
       "      <td>short</td>\n",
       "      <td>Carmencita</td>\n",
       "      <td>Carmencita</td>\n",
       "      <td>0</td>\n",
       "      <td>1894</td>\n",
       "      <td>\\N</td>\n",
       "      <td>1</td>\n",
       "      <td>Documentary,Short</td>\n",
       "    </tr>\n",
       "    <tr>\n",
       "      <th>1</th>\n",
       "      <td>tt0000002</td>\n",
       "      <td>short</td>\n",
       "      <td>Le clown et ses chiens</td>\n",
       "      <td>Le clown et ses chiens</td>\n",
       "      <td>0</td>\n",
       "      <td>1892</td>\n",
       "      <td>\\N</td>\n",
       "      <td>5</td>\n",
       "      <td>Animation,Short</td>\n",
       "    </tr>\n",
       "    <tr>\n",
       "      <th>2</th>\n",
       "      <td>tt0000003</td>\n",
       "      <td>short</td>\n",
       "      <td>Pauvre Pierrot</td>\n",
       "      <td>Pauvre Pierrot</td>\n",
       "      <td>0</td>\n",
       "      <td>1892</td>\n",
       "      <td>\\N</td>\n",
       "      <td>4</td>\n",
       "      <td>Animation,Comedy,Romance</td>\n",
       "    </tr>\n",
       "    <tr>\n",
       "      <th>3</th>\n",
       "      <td>tt0000004</td>\n",
       "      <td>short</td>\n",
       "      <td>Un bon bock</td>\n",
       "      <td>Un bon bock</td>\n",
       "      <td>0</td>\n",
       "      <td>1892</td>\n",
       "      <td>\\N</td>\n",
       "      <td>12</td>\n",
       "      <td>Animation,Short</td>\n",
       "    </tr>\n",
       "    <tr>\n",
       "      <th>4</th>\n",
       "      <td>tt0000005</td>\n",
       "      <td>short</td>\n",
       "      <td>Blacksmith Scene</td>\n",
       "      <td>Blacksmith Scene</td>\n",
       "      <td>0</td>\n",
       "      <td>1893</td>\n",
       "      <td>\\N</td>\n",
       "      <td>1</td>\n",
       "      <td>Comedy,Short</td>\n",
       "    </tr>\n",
       "  </tbody>\n",
       "</table>\n",
       "</div>"
      ],
      "text/plain": [
       "      tconst titleType            primaryTitle           originalTitle  \\\n",
       "0  tt0000001     short              Carmencita              Carmencita   \n",
       "1  tt0000002     short  Le clown et ses chiens  Le clown et ses chiens   \n",
       "2  tt0000003     short          Pauvre Pierrot          Pauvre Pierrot   \n",
       "3  tt0000004     short             Un bon bock             Un bon bock   \n",
       "4  tt0000005     short        Blacksmith Scene        Blacksmith Scene   \n",
       "\n",
       "  isAdult startYear endYear runtimeMinutes                    genres  \n",
       "0       0      1894      \\N              1         Documentary,Short  \n",
       "1       0      1892      \\N              5           Animation,Short  \n",
       "2       0      1892      \\N              4  Animation,Comedy,Romance  \n",
       "3       0      1892      \\N             12           Animation,Short  \n",
       "4       0      1893      \\N              1              Comedy,Short  "
      ]
     },
     "execution_count": 3,
     "metadata": {},
     "output_type": "execute_result"
    }
   ],
   "source": [
    "basics = pd.read_csv('Data/title.basics.tsv.gz', sep = '\\t', low_memory = False)\n",
    "basics.head()"
   ]
  },
  {
   "cell_type": "markdown",
   "id": "b8bde645",
   "metadata": {},
   "source": [
    "We need to manipulate the data so it is as follow:<br>\n",
    "\n",
    "1. Replace \"\\N\" with np.nan<br>\n",
    "2. Eliminate movies that are null for runtime<br>\n",
    "3. Eliminate movies that are null for genre<br>\n",
    "4. Keep only titleType == Movies<br>\n",
    "5. Keep only between startYear 2000-2022 (excluding 2022)<br>\n",
    "6. Eliminate movies that include  \"Documentary\" in genre"
   ]
  },
  {
   "cell_type": "code",
   "execution_count": 4,
   "id": "f09420ff",
   "metadata": {},
   "outputs": [],
   "source": [
    "# fix null values\n",
    "basics = basics.replace({'\\\\N': np.nan})\n",
    "\n",
    "# remove runtimes if they aren't a number\n",
    "# found runtimeMinutes has genres in it - get rid of em\n",
    "drops = []\n",
    "for var in [x for x in basics['runtimeMinutes'] if type(x) == type('')]:\n",
    "    try:\n",
    "        # if we can typecast to int then it was wrong format\n",
    "        int(var)\n",
    "    except:\n",
    "        # if we can't typecast to int then it was a string\n",
    "        if var not in drops:\n",
    "            drops.append(var)\n",
    "# drop columns where runtime equals str vals\n",
    "for val in drops:                \n",
    "    basics = basics.drop(basics.loc[basics['runtimeMinutes'] == val].index)\n",
    "\n",
    "# drop empty values from these columns\n",
    "basics = basics.dropna(subset = ['runtimeMinutes', 'genres', 'startYear'])\n",
    "# Only Movies\n",
    "basics = basics.loc[basics['titleType'] == \"movie\"]\n",
    "# No Documentaries\n",
    "basics = basics[~basics['genres'].str.contains(\"Documentary\", case = False)]\n",
    "# Only between 2000 and 2021\n",
    "basics = basics.loc[(basics['startYear'].astype(int) >= 2000) & (basics['startYear'].astype(int) <= 2021)]"
   ]
  },
  {
   "cell_type": "markdown",
   "id": "160ef7f4",
   "metadata": {},
   "source": [
    "# Title Ratings Data \n",
    "<p> Configure Title Ratings Data to fit our needs </p>"
   ]
  },
  {
   "cell_type": "markdown",
   "id": "8bf18e20",
   "metadata": {},
   "source": [
    "Loand and view the data"
   ]
  },
  {
   "cell_type": "code",
   "execution_count": 5,
   "id": "3f00aea7",
   "metadata": {},
   "outputs": [
    {
     "data": {
      "text/html": [
       "<div>\n",
       "<style scoped>\n",
       "    .dataframe tbody tr th:only-of-type {\n",
       "        vertical-align: middle;\n",
       "    }\n",
       "\n",
       "    .dataframe tbody tr th {\n",
       "        vertical-align: top;\n",
       "    }\n",
       "\n",
       "    .dataframe thead th {\n",
       "        text-align: right;\n",
       "    }\n",
       "</style>\n",
       "<table border=\"1\" class=\"dataframe\">\n",
       "  <thead>\n",
       "    <tr style=\"text-align: right;\">\n",
       "      <th></th>\n",
       "      <th>tconst</th>\n",
       "      <th>averageRating</th>\n",
       "      <th>numVotes</th>\n",
       "    </tr>\n",
       "  </thead>\n",
       "  <tbody>\n",
       "    <tr>\n",
       "      <th>0</th>\n",
       "      <td>tt0000001</td>\n",
       "      <td>5.7</td>\n",
       "      <td>1876</td>\n",
       "    </tr>\n",
       "    <tr>\n",
       "      <th>1</th>\n",
       "      <td>tt0000002</td>\n",
       "      <td>5.9</td>\n",
       "      <td>248</td>\n",
       "    </tr>\n",
       "    <tr>\n",
       "      <th>2</th>\n",
       "      <td>tt0000003</td>\n",
       "      <td>6.5</td>\n",
       "      <td>1649</td>\n",
       "    </tr>\n",
       "    <tr>\n",
       "      <th>3</th>\n",
       "      <td>tt0000004</td>\n",
       "      <td>5.8</td>\n",
       "      <td>160</td>\n",
       "    </tr>\n",
       "    <tr>\n",
       "      <th>4</th>\n",
       "      <td>tt0000005</td>\n",
       "      <td>6.2</td>\n",
       "      <td>2475</td>\n",
       "    </tr>\n",
       "  </tbody>\n",
       "</table>\n",
       "</div>"
      ],
      "text/plain": [
       "      tconst  averageRating  numVotes\n",
       "0  tt0000001            5.7      1876\n",
       "1  tt0000002            5.9       248\n",
       "2  tt0000003            6.5      1649\n",
       "3  tt0000004            5.8       160\n",
       "4  tt0000005            6.2      2475"
      ]
     },
     "execution_count": 5,
     "metadata": {},
     "output_type": "execute_result"
    }
   ],
   "source": [
    "ratings = pd.read_csv('Data/title.ratings.tsv.gz', sep = '\\t', low_memory = False)\n",
    "ratings.head()"
   ]
  },
  {
   "cell_type": "markdown",
   "id": "18fa2410",
   "metadata": {},
   "source": [
    "Manipulate then save data"
   ]
  },
  {
   "cell_type": "code",
   "execution_count": 6,
   "id": "652a95eb",
   "metadata": {},
   "outputs": [],
   "source": [
    "# fix null values\n",
    "ratings = ratings.replace({'\\\\N': np.nan})\n",
    "\n",
    "# save data\n",
    "ratings.to_csv(\"Data/ratings.csv.gz\", compression='gzip', index=False)"
   ]
  },
  {
   "cell_type": "markdown",
   "id": "f09ce0f2",
   "metadata": {},
   "source": [
    "# Title Akas Data\n",
    "<p> Configure Title Akas Data to fit our needs </p>"
   ]
  },
  {
   "cell_type": "markdown",
   "id": "96b135aa",
   "metadata": {},
   "source": [
    "Load and view the data"
   ]
  },
  {
   "cell_type": "code",
   "execution_count": 7,
   "id": "e3b527bd",
   "metadata": {},
   "outputs": [
    {
     "data": {
      "text/html": [
       "<div>\n",
       "<style scoped>\n",
       "    .dataframe tbody tr th:only-of-type {\n",
       "        vertical-align: middle;\n",
       "    }\n",
       "\n",
       "    .dataframe tbody tr th {\n",
       "        vertical-align: top;\n",
       "    }\n",
       "\n",
       "    .dataframe thead th {\n",
       "        text-align: right;\n",
       "    }\n",
       "</style>\n",
       "<table border=\"1\" class=\"dataframe\">\n",
       "  <thead>\n",
       "    <tr style=\"text-align: right;\">\n",
       "      <th></th>\n",
       "      <th>titleId</th>\n",
       "      <th>ordering</th>\n",
       "      <th>title</th>\n",
       "      <th>region</th>\n",
       "      <th>language</th>\n",
       "      <th>types</th>\n",
       "      <th>attributes</th>\n",
       "      <th>isOriginalTitle</th>\n",
       "    </tr>\n",
       "  </thead>\n",
       "  <tbody>\n",
       "    <tr>\n",
       "      <th>0</th>\n",
       "      <td>tt0000001</td>\n",
       "      <td>1</td>\n",
       "      <td>Карменсіта</td>\n",
       "      <td>UA</td>\n",
       "      <td>\\N</td>\n",
       "      <td>imdbDisplay</td>\n",
       "      <td>\\N</td>\n",
       "      <td>0</td>\n",
       "    </tr>\n",
       "    <tr>\n",
       "      <th>1</th>\n",
       "      <td>tt0000001</td>\n",
       "      <td>2</td>\n",
       "      <td>Carmencita</td>\n",
       "      <td>DE</td>\n",
       "      <td>\\N</td>\n",
       "      <td>\\N</td>\n",
       "      <td>literal title</td>\n",
       "      <td>0</td>\n",
       "    </tr>\n",
       "    <tr>\n",
       "      <th>2</th>\n",
       "      <td>tt0000001</td>\n",
       "      <td>3</td>\n",
       "      <td>Carmencita - spanyol tánc</td>\n",
       "      <td>HU</td>\n",
       "      <td>\\N</td>\n",
       "      <td>imdbDisplay</td>\n",
       "      <td>\\N</td>\n",
       "      <td>0</td>\n",
       "    </tr>\n",
       "    <tr>\n",
       "      <th>3</th>\n",
       "      <td>tt0000001</td>\n",
       "      <td>4</td>\n",
       "      <td>Καρμενσίτα</td>\n",
       "      <td>GR</td>\n",
       "      <td>\\N</td>\n",
       "      <td>imdbDisplay</td>\n",
       "      <td>\\N</td>\n",
       "      <td>0</td>\n",
       "    </tr>\n",
       "    <tr>\n",
       "      <th>4</th>\n",
       "      <td>tt0000001</td>\n",
       "      <td>5</td>\n",
       "      <td>Карменсита</td>\n",
       "      <td>RU</td>\n",
       "      <td>\\N</td>\n",
       "      <td>imdbDisplay</td>\n",
       "      <td>\\N</td>\n",
       "      <td>0</td>\n",
       "    </tr>\n",
       "  </tbody>\n",
       "</table>\n",
       "</div>"
      ],
      "text/plain": [
       "     titleId  ordering                      title region language  \\\n",
       "0  tt0000001         1                 Карменсіта     UA       \\N   \n",
       "1  tt0000001         2                 Carmencita     DE       \\N   \n",
       "2  tt0000001         3  Carmencita - spanyol tánc     HU       \\N   \n",
       "3  tt0000001         4                 Καρμενσίτα     GR       \\N   \n",
       "4  tt0000001         5                 Карменсита     RU       \\N   \n",
       "\n",
       "         types     attributes isOriginalTitle  \n",
       "0  imdbDisplay             \\N               0  \n",
       "1           \\N  literal title               0  \n",
       "2  imdbDisplay             \\N               0  \n",
       "3  imdbDisplay             \\N               0  \n",
       "4  imdbDisplay             \\N               0  "
      ]
     },
     "execution_count": 7,
     "metadata": {},
     "output_type": "execute_result"
    }
   ],
   "source": [
    "akas = pd.read_csv('Data/title.akas.tsv.gz', sep = '\\t', low_memory = False)\n",
    "akas.head()"
   ]
  },
  {
   "cell_type": "code",
   "execution_count": 8,
   "id": "7038f8db",
   "metadata": {},
   "outputs": [],
   "source": [
    "# fix null values\n",
    "akas = akas.replace({'\\\\N': np.nan})\n",
    "# US only movies\n",
    "akas = akas.loc[akas['region'] == 'US']"
   ]
  },
  {
   "cell_type": "markdown",
   "id": "fd156092",
   "metadata": {},
   "source": [
    "Now we must filter the basics data to US only movies and save them both"
   ]
  },
  {
   "cell_type": "code",
   "execution_count": 9,
   "id": "45298a3a",
   "metadata": {},
   "outputs": [],
   "source": [
    "# Filter the basics table down to only include the US by using the filter akas dataframe\n",
    "basics = basics[basics['tconst'].isin(akas['titleId'])]\n",
    "\n",
    "# save data\n",
    "akas.to_csv(\"Data/akas.csv.gz\", compression='gzip', index=False)\n",
    "basics.to_csv(\"Data/basics.csv.gz\", compression='gzip', index=False)"
   ]
  }
 ],
 "metadata": {
  "kernelspec": {
   "display_name": "Python (dojo-env)",
   "language": "python",
   "name": "dojo-env"
  },
  "language_info": {
   "codemirror_mode": {
    "name": "ipython",
    "version": 3
   },
   "file_extension": ".py",
   "mimetype": "text/x-python",
   "name": "python",
   "nbconvert_exporter": "python",
   "pygments_lexer": "ipython3",
   "version": "3.8.13"
  },
  "toc": {
   "base_numbering": 1,
   "nav_menu": {},
   "number_sections": true,
   "sideBar": true,
   "skip_h1_title": false,
   "title_cell": "Table of Contents",
   "title_sidebar": "Contents",
   "toc_cell": false,
   "toc_position": {},
   "toc_section_display": true,
   "toc_window_display": false
  }
 },
 "nbformat": 4,
 "nbformat_minor": 5
}
